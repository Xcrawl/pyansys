{
  "cells": [
    {
      "cell_type": "code",
      "execution_count": null,
      "metadata": {
        "collapsed": false
      },
      "outputs": [],
      "source": [
        "%matplotlib inline\nfrom pyvista import set_plot_theme\nset_plot_theme('document')"
      ]
    },
    {
      "cell_type": "markdown",
      "metadata": {},
      "source": [
        "\n\nShaft Modal Analysis\n~~~~~~~~~~~~~~~~~~~~\n\nVisualize a shaft modal analysis\n"
      ]
    },
    {
      "cell_type": "code",
      "execution_count": null,
      "metadata": {
        "collapsed": false
      },
      "outputs": [],
      "source": [
        "import pyansys\n\n# Download an example shaft modal analysis result file\nshaft = pyansys.download_shaft_modal()"
      ]
    },
    {
      "cell_type": "markdown",
      "metadata": {},
      "source": [
        "Geometry is stored both as a dictionary...\n\n"
      ]
    },
    {
      "cell_type": "code",
      "execution_count": null,
      "metadata": {
        "collapsed": false
      },
      "outputs": [],
      "source": [
        "print(shaft.geometry.keys())"
      ]
    },
    {
      "cell_type": "markdown",
      "metadata": {},
      "source": [
        "...as a VTK object\n\n"
      ]
    },
    {
      "cell_type": "code",
      "execution_count": null,
      "metadata": {
        "collapsed": false
      },
      "outputs": [],
      "source": [
        "print(shaft.grid)"
      ]
    },
    {
      "cell_type": "markdown",
      "metadata": {},
      "source": [
        "Plot the shaft\n\n"
      ]
    },
    {
      "cell_type": "code",
      "execution_count": null,
      "metadata": {
        "collapsed": false
      },
      "outputs": [],
      "source": [
        "shaft.plot()\n\n# list shaft node components"
      ]
    },
    {
      "cell_type": "code",
      "execution_count": null,
      "metadata": {
        "collapsed": false
      },
      "outputs": [],
      "source": [
        "print(shaft.node_components.keys())"
      ]
    },
    {
      "cell_type": "markdown",
      "metadata": {},
      "source": [
        "Plot a node component\n\n"
      ]
    },
    {
      "cell_type": "code",
      "execution_count": null,
      "metadata": {
        "collapsed": false
      },
      "outputs": [],
      "source": [
        "cpos = [(-115.35773008378118, 285.36602704380107, -393.9029392590675),\n        (126.12852038381345, 0.2179228023931401, 5.236408799851887),\n        (0.37246222812978824, 0.8468424028124546, 0.37964435122285495)]\nshaft.plot(node_components=['SHAFT_MESH'], cpos=cpos)\n# get cpos from cpos = shaft.plot()"
      ]
    },
    {
      "cell_type": "markdown",
      "metadata": {},
      "source": [
        "Plot a node component as a wireframe\n\n"
      ]
    },
    {
      "cell_type": "code",
      "execution_count": null,
      "metadata": {
        "collapsed": false
      },
      "outputs": [],
      "source": [
        "shaft.plot(node_components=['SHAFT_MESH'], cpos=cpos, style='wireframe',\n           lighting=False)"
      ]
    },
    {
      "cell_type": "markdown",
      "metadata": {},
      "source": [
        "Plot the shaft with edges and with a blue color\n\n"
      ]
    },
    {
      "cell_type": "code",
      "execution_count": null,
      "metadata": {
        "collapsed": false
      },
      "outputs": [],
      "source": [
        "shaft.plot(show_edges=True, color='cyan')"
      ]
    },
    {
      "cell_type": "markdown",
      "metadata": {},
      "source": [
        "Plot the shaft without lighting but with edges and with a blue color\n\n"
      ]
    },
    {
      "cell_type": "code",
      "execution_count": null,
      "metadata": {
        "collapsed": false
      },
      "outputs": [],
      "source": [
        "shaft.plot(lighting=False, show_edges=True, color='cyan')"
      ]
    },
    {
      "cell_type": "markdown",
      "metadata": {},
      "source": [
        "plot a mode shape without contours\n\n"
      ]
    },
    {
      "cell_type": "code",
      "execution_count": null,
      "metadata": {
        "collapsed": false
      },
      "outputs": [],
      "source": [
        "shaft.plot_nodal_solution(1, node_components=['SHAFT_MESH'],\n                          show_displacement=True, max_disp=10, overlay_wireframe=True,\n                          cpos=cpos)"
      ]
    },
    {
      "cell_type": "markdown",
      "metadata": {},
      "source": [
        "plot a mode shape with contours\n\n"
      ]
    },
    {
      "cell_type": "code",
      "execution_count": null,
      "metadata": {
        "collapsed": false
      },
      "outputs": [],
      "source": [
        "shaft.plot_nodal_solution(1, node_components=['SHAFT_MESH'], n_colors=10,\n                          show_displacement=True, max_disp=10, overlay_wireframe=True,\n                          cpos=cpos)"
      ]
    },
    {
      "cell_type": "markdown",
      "metadata": {},
      "source": [
        "Animate a mode of a component the shaft\n\n"
      ]
    },
    {
      "cell_type": "code",
      "execution_count": null,
      "metadata": {
        "collapsed": false
      },
      "outputs": [],
      "source": [
        "shaft.animate_nodal_solution(5, node_components='SHAFT_MESH', comp='norm',\n                             max_disp=10, show_edges=True, cmap='bwr', cpos=cpos,\n                             loop=False)\n# set loop to True to plot continiously"
      ]
    }
  ],
  "metadata": {
    "kernelspec": {
      "display_name": "Python 3",
      "language": "python",
      "name": "python3"
    },
    "language_info": {
      "codemirror_mode": {
        "name": "ipython",
        "version": 3
      },
      "file_extension": ".py",
      "mimetype": "text/x-python",
      "name": "python",
      "nbconvert_exporter": "python",
      "pygments_lexer": "ipython3",
      "version": "3.7.7"
    }
  },
  "nbformat": 4,
  "nbformat_minor": 0
}